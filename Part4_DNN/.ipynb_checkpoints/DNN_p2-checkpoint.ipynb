{
 "cells": [
  {
   "cell_type": "code",
   "execution_count": 1,
   "metadata": {
    "collapsed": false
   },
   "outputs": [],
   "source": [
    "import time\n",
    "import numpy as np\n",
    "import h5py\n",
    "import matplotlib.pyplot as plt\n",
    "import scipy\n",
    "from PIL import Image\n",
    "from scipy import ndimage\n",
    "from dnn_app_utils_v2 import *\n",
    "\n",
    "%matplotlib inline\n",
    "plt.rcParams['figure.figsize']=(5.0,4.0)  #set default size of plots\n",
    "plt.rcParams['image.interpolation']='nearest'  #图片放大的风格\n",
    "plt.rcParams['image.cmap']='gray'  \n",
    "\n",
    "%load_ext autoreload\n",
    "%autoreload 2\n",
    "\n",
    "np.random.seed(1)"
   ]
  },
  {
   "cell_type": "code",
   "execution_count": 2,
   "metadata": {
    "collapsed": true
   },
   "outputs": [],
   "source": [
    "train_x_orig,train_y,test_x_orig,test_y,classes=load_data()"
   ]
  },
  {
   "cell_type": "code",
   "execution_count": 3,
   "metadata": {
    "collapsed": true
   },
   "outputs": [],
   "source": [
    "m_train=train_x_orig.shape[0]\n",
    "num_px=train_x_orig.shape[1]\n",
    "m_test=test_x_orig.shape[0]"
   ]
  },
  {
   "cell_type": "code",
   "execution_count": 4,
   "metadata": {
    "collapsed": true
   },
   "outputs": [],
   "source": [
    "#Reshape the  training and test examples\n",
    "train_x_flatten=train_x_orig.reshape(train_x_orig.shape[0],-1).T\n",
    "test_x_flatten=test_x_orig.reshape(test_x_orig.shape[0],-1).T\n",
    "\n",
    "#Standardize data to have feature values between 0 and 1\n",
    "train_x=train_x_flatten/255\n",
    "test_x=test_x_flatten/255"
   ]
  },
  {
   "cell_type": "code",
   "execution_count": 7,
   "metadata": {
    "collapsed": false
   },
   "outputs": [],
   "source": [
    "n_x=12288\n",
    "n_h=7\n",
    "n_y=1\n",
    "layer_dims=(n_x,n_h,n_y)"
   ]
  },
  {
   "cell_type": "code",
   "execution_count": null,
   "metadata": {
    "collapsed": true
   },
   "outputs": [],
   "source": [
    "def two_layer_model(X,Y,layer_dims,learning_rate=0.0075,num_iterations=3000,print_cost=False):\n",
    "    np.random.seed(1)\n",
    "    grads={}\n",
    "    cost=[]  #"
   ]
  }
 ],
 "metadata": {
  "kernelspec": {
   "display_name": "Python [default]",
   "language": "python",
   "name": "python3"
  },
  "language_info": {
   "codemirror_mode": {
    "name": "ipython",
    "version": 3
   },
   "file_extension": ".py",
   "mimetype": "text/x-python",
   "name": "python",
   "nbconvert_exporter": "python",
   "pygments_lexer": "ipython3",
   "version": "3.5.2"
  }
 },
 "nbformat": 4,
 "nbformat_minor": 1
}
