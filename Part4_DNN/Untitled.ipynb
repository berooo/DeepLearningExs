{
 "cells": [
  {
   "cell_type": "code",
   "execution_count": 4,
   "metadata": {
    "collapsed": false
   },
   "outputs": [],
   "source": [
    "def sigmod():\n",
    "    A = 'sigmod'\n",
    "    return A\n",
    "\n",
    "\n",
    "def relu():\n",
    "    A = 'relu'\n",
    "    return A\n",
    "\n",
    "\n",
    "def f(para):\n",
    "    if para == 'sigmod':\n",
    "        A = sigmod()\n",
    "    elif para == 'relu':\n",
    "        A = relu()\n",
    "\n",
    "   # assert (A == 'relu')\n",
    "    print(A)\n",
    "\n",
    "\n"
   ]
  },
  {
   "cell_type": "code",
   "execution_count": 7,
   "metadata": {
    "collapsed": false
   },
   "outputs": [
    {
     "name": "stdout",
     "output_type": "stream",
     "text": [
      "relu\n"
     ]
    }
   ],
   "source": [
    "f('relu')"
   ]
  }
 ],
 "metadata": {
  "kernelspec": {
   "display_name": "Python [default]",
   "language": "python",
   "name": "python3"
  },
  "language_info": {
   "codemirror_mode": {
    "name": "ipython",
    "version": 3
   },
   "file_extension": ".py",
   "mimetype": "text/x-python",
   "name": "python",
   "nbconvert_exporter": "python",
   "pygments_lexer": "ipython3",
   "version": "3.5.2"
  }
 },
 "nbformat": 4,
 "nbformat_minor": 1
}
