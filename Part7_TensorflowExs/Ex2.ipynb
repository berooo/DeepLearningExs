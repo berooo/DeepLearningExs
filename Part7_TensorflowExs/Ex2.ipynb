{
 "cells": [
  {
   "cell_type": "code",
   "execution_count": 1,
   "metadata": {
    "collapsed": true
   },
   "outputs": [],
   "source": [
    "import tensorflow as tf"
   ]
  },
  {
   "cell_type": "code",
   "execution_count": 3,
   "metadata": {
    "collapsed": false
   },
   "outputs": [
    {
     "name": "stdout",
     "output_type": "stream",
     "text": [
      "[-2.  2.]\n",
      "[-1.  1.]\n"
     ]
    }
   ],
   "source": [
    "x=tf.Variable(tf.constant([-4,4],tf.float32),tf.float32)\n",
    "y=tf.reduce_sum(tf.square(x))\n",
    "\n",
    "session=tf.Session()\n",
    "session.run(tf.global_variables_initializer())\n",
    "\n",
    "opti=tf.train.GradientDescentOptimizer(0.25).minimize(y)\n",
    "\n",
    "for i in range(2):\n",
    "    session.run(opti)\n",
    "    print(session.run(x))"
   ]
  }
 ],
 "metadata": {
  "kernelspec": {
   "display_name": "Python [default]",
   "language": "python",
   "name": "python3"
  },
  "language_info": {
   "codemirror_mode": {
    "name": "ipython",
    "version": 3
   },
   "file_extension": ".py",
   "mimetype": "text/x-python",
   "name": "python",
   "nbconvert_exporter": "python",
   "pygments_lexer": "ipython3",
   "version": "3.5.2"
  }
 },
 "nbformat": 4,
 "nbformat_minor": 1
}
