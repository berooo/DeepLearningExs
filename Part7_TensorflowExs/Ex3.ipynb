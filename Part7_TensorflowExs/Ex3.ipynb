{
 "cells": [
  {
   "cell_type": "code",
   "execution_count": 1,
   "metadata": {
    "collapsed": true
   },
   "outputs": [],
   "source": [
    "import tensorflow as tf\n",
    "import numpy as np"
   ]
  },
  {
   "cell_type": "code",
   "execution_count": 2,
   "metadata": {
    "collapsed": false
   },
   "outputs": [
    {
     "name": "stdout",
     "output_type": "stream",
     "text": [
      "[[10.]\n",
      " [-2.]]\n"
     ]
    }
   ],
   "source": [
    "x=tf.placeholder(tf.float32,(2,None))\n",
    "#第一层的权重矩阵\n",
    "w1=tf.constant(\n",
    "    [[1,4,7],\n",
    "     [2,6,8]],tf.float32\n",
    ")\n",
    "#第一层的偏置\n",
    "b1=tf.constant(\n",
    "    [[-4],\n",
    "     [2],\n",
    "     [1]\n",
    "    ],tf.float32\n",
    ")\n",
    "\n",
    "#计算第一层的线性组合\n",
    "l1=tf.matmul(w1,x,True)+b1\n",
    "sigma1=2*l1\n",
    "\n",
    "#第二层的权重矩阵\n",
    "w2=tf.constant(\n",
    "     [[2,3],\n",
    "      [1,-2],\n",
    "      [-1,1]],tf.float32\n",
    ")\n",
    "#第二层的偏置\n",
    "b2=tf.constant(\n",
    "     [[5],[-3]],tf.float32\n",
    ")\n",
    "#计算第一层的线性组合\n",
    "l2=tf.matmul(w2,sigma1,True)+b2\n",
    "sigma2=2*l2\n",
    "#创建会话\n",
    "session=tf.Session()\n",
    "print(session.run(sigma2,{x:np.array([[3],[5]],np.float32)}))"
   ]
  }
 ],
 "metadata": {
  "kernelspec": {
   "display_name": "Python [default]",
   "language": "python",
   "name": "python3"
  },
  "language_info": {
   "codemirror_mode": {
    "name": "ipython",
    "version": 3
   },
   "file_extension": ".py",
   "mimetype": "text/x-python",
   "name": "python",
   "nbconvert_exporter": "python",
   "pygments_lexer": "ipython3",
   "version": "3.5.2"
  }
 },
 "nbformat": 4,
 "nbformat_minor": 1
}
