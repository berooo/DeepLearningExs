{
 "cells": [
  {
   "cell_type": "code",
   "execution_count": null,
   "metadata": {
    "collapsed": true
   },
   "outputs": [],
   "source": [
    "import tensorflow as tf\n",
    "\n",
    "x=tf.Variable(tf.constant([[2,1,3]],tf.float32))\n",
    "w=tf.constant([[2],[3],[4]],tf.float32)\n",
    "\n",
    "g=tf.matmul(x,w)\n",
    "\n",
    "f=tf.nn.relu(g)\n",
    "\n",
    "gradient=tf.gradients(f,[g,x])"
   ]
  }
 ],
 "metadata": {
  "kernelspec": {
   "display_name": "Python [default]",
   "language": "python",
   "name": "python3"
  },
  "language_info": {
   "codemirror_mode": {
    "name": "ipython",
    "version": 3
   },
   "file_extension": ".py",
   "mimetype": "text/x-python",
   "name": "python",
   "nbconvert_exporter": "python",
   "pygments_lexer": "ipython3",
   "version": "3.5.2"
  }
 },
 "nbformat": 4,
 "nbformat_minor": 1
}
